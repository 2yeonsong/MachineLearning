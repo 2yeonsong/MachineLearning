{
  "nbformat": 4,
  "nbformat_minor": 0,
  "metadata": {
    "colab": {
      "provenance": [],
      "authorship_tag": "ABX9TyP+cZQ5TLMKjXUNeOxrzZdg",
      "include_colab_link": true
    },
    "kernelspec": {
      "name": "python3",
      "display_name": "Python 3"
    },
    "language_info": {
      "name": "python"
    }
  },
  "cells": [
    {
      "cell_type": "markdown",
      "metadata": {
        "id": "view-in-github",
        "colab_type": "text"
      },
      "source": [
        "<a href=\"https://colab.research.google.com/github/2yeonsong/MachineLearning/blob/main/9_1.ipynb\" target=\"_parent\"><img src=\"https://colab.research.google.com/assets/colab-badge.svg\" alt=\"Open In Colab\"/></a>"
      ]
    },
    {
      "cell_type": "code",
      "execution_count": null,
      "metadata": {
        "id": "h9DJaMu0OVrI"
      },
      "outputs": [],
      "source": [
        "# 순차 데이터와 순환 신경"
      ]
    },
    {
      "cell_type": "markdown",
      "source": [
        "순차 데이터는 텍스트나 시계열 데이터와 같이 순서에 의미가 있는 데이터를 말한다."
      ],
      "metadata": {
        "id": "LLuluNnddRi5"
      }
    },
    {
      "cell_type": "markdown",
      "source": [
        "순환 신경망은 일반적인 완전 연결 신경망과 거의 비슷하다. 완전 연결 신경망에 이전 데이터의 처리 흐름을 순환하는 고리 하나만 추가하면 된다."
      ],
      "metadata": {
        "id": "9qV4FrUReRC5"
      }
    },
    {
      "cell_type": "markdown",
      "source": [],
      "metadata": {
        "id": "40Nabgcdeseq"
      }
    },
    {
      "cell_type": "markdown",
      "source": [
        "순환 신경망에서는 종종 순환층을 셀이라 부르며 일반적인 인공신경망과 마찬가지로 하나의 셀은 여러 개의 뉴런으로 구성된다."
      ],
      "metadata": {
        "id": "iQuT0dFxeaIZ"
      }
    },
    {
      "cell_type": "markdown",
      "source": [
        "순환 신경망에서는 셀의 출력을 특별히 은닉 상태라고 부른다. 은닉 상태는 다음 층으로 전달될 뿐만 아니라 셀이 다음 타임 스텝의 데이터를 처리할 때 재사용된다."
      ],
      "metadata": {
        "id": "bRA5uoLBerSl"
      }
    }
  ]
}