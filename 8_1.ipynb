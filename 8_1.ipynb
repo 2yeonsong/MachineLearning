{
  "nbformat": 4,
  "nbformat_minor": 0,
  "metadata": {
    "colab": {
      "provenance": [],
      "authorship_tag": "ABX9TyMWE+vLuBOHYoPm1RFDWgAY",
      "include_colab_link": true
    },
    "kernelspec": {
      "name": "python3",
      "display_name": "Python 3"
    },
    "language_info": {
      "name": "python"
    }
  },
  "cells": [
    {
      "cell_type": "markdown",
      "metadata": {
        "id": "view-in-github",
        "colab_type": "text"
      },
      "source": [
        "<a href=\"https://colab.research.google.com/github/2yeonsong/MachineLearning/blob/main/8_1.ipynb\" target=\"_parent\"><img src=\"https://colab.research.google.com/assets/colab-badge.svg\" alt=\"Open In Colab\"/></a>"
      ]
    },
    {
      "cell_type": "markdown",
      "source": [
        "# 인공신경망\n",
        "처음에 가중치들과 절편을 랜덤하게 초기화 한 다음 에포크를 반복하면서 경사 하강법 알고리즘을 사용하여 손실이 낮아지도록 최적의 가중치와 정편을 찾아감\n",
        "이것이 바로 모델 훈련이다."
      ],
      "metadata": {
        "id": "Io8RLVvHGBUv"
      }
    },
    {
      "cell_type": "markdown",
      "source": [
        "# 1. 합성곱 신경망\n",
        "합성곱은 밀집층의 계산과 조금 다름\n",
        "입력 데이터 전체에 가중치를 적용하는것이 아니라 일부에 적용(???)"
      ],
      "metadata": {
        "id": "CUE1zFpvGnpp"
      }
    },
    {
      "cell_type": "markdown",
      "source": [
        "# 2. 특성 앱\n",
        "합성곱 계산을 통해 얻은 출력으로\n",
        "어쩌고... 적용된 값임\n"
      ],
      "metadata": {
        "id": "lumr3imOHgKv"
      }
    },
    {
      "cell_type": "markdown",
      "source": [
        "# 3. 밀집층과 합성곱의 차이\n",
        "(1) 2차원 형태를 유지<br/>\n",
        "(2) 입력보다 훨씬 작은 크기의 커널을 사용<br/>\n",
        "이렇게 2차원 구조를 그대로 사용하기 때문에 합성곱 신경망이 이미지 처리 분야에서 뛰어난 성능을 발휘"
      ],
      "metadata": {
        "id": "0PI5ITC2IEW0"
      }
    },
    {
      "cell_type": "markdown",
      "source": [
        "# 4. 케라스 합성곱 층\n",
        "conv2D의 첫 번째 매개변수는 필터의 개수\n"
      ],
      "metadata": {
        "id": "1pgqjG76ImBe"
      }
    },
    {
      "cell_type": "markdown",
      "source": [
        "\n",
        "# 5. 합성곱 신경망의 정의\n",
        "1개 이상의 합성곱을 쓴 인공 신경망을 의미"
      ],
      "metadata": {
        "id": "C8AsMmo4I652"
      }
    },
    {
      "cell_type": "markdown",
      "source": [],
      "metadata": {
        "id": "iFfJ4RzMJA34"
      }
    }
  ]
}